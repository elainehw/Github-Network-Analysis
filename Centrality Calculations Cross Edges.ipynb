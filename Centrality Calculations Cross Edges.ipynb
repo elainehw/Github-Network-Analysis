{
 "cells": [
  {
   "cell_type": "markdown",
   "metadata": {},
   "source": [
    "# Calculating Closeness, Bewteenness, and Degree"
   ]
  },
  {
   "cell_type": "code",
   "execution_count": 1,
   "metadata": {},
   "outputs": [],
   "source": [
    "import pandas as pd\n",
    "import networkx as nx\n",
    "import matplotlib.pyplot as plt\n",
    "%matplotlib inline\n",
    "import warnings; warnings.simplefilter('ignore')"
   ]
  },
  {
   "cell_type": "code",
   "execution_count": 2,
   "metadata": {},
   "outputs": [],
   "source": [
    "G_symmetric = nx.Graph()"
   ]
  },
  {
   "cell_type": "code",
   "execution_count": 5,
   "metadata": {},
   "outputs": [
    {
     "name": "stdout",
     "output_type": "stream",
     "text": [
      "Wall time: 12.7 s\n"
     ]
    }
   ],
   "source": [
    "%%time\n",
    "df_network = pd.read_csv('combined_github_data.csv')\n",
    "\n",
    "df_network.head()\n",
    "\n",
    "mask = df_network['ml_target'] != df_network['ml_target_2']\n",
    "df_network = df_network[mask]\n",
    "df_network.head()\n",
    "\n",
    "for i in range(len(df_network)):\n",
    "    G_symmetric.add_edge(df_network.iloc[i]['name'],  df_network.iloc[i]['name_2'])"
   ]
  },
  {
   "cell_type": "code",
   "execution_count": 9,
   "metadata": {},
   "outputs": [],
   "source": [
    "degree = nx.degree_centrality(G_symmetric)\n"
   ]
  },
  {
   "cell_type": "code",
   "execution_count": 10,
   "metadata": {},
   "outputs": [
    {
     "name": "stdout",
     "output_type": "stream",
     "text": [
      "Wall time: 20min 56s\n"
     ]
    }
   ],
   "source": [
    "%%time\n",
    "closeness = nx.closeness_centrality(G_symmetric)\n"
   ]
  },
  {
   "cell_type": "code",
   "execution_count": 11,
   "metadata": {},
   "outputs": [
    {
     "name": "stdout",
     "output_type": "stream",
     "text": [
      "Wall time: 37min 18s\n"
     ]
    }
   ],
   "source": [
    "%%time\n",
    "betweeness = nx.betweenness_centrality(G_symmetric)\n"
   ]
  },
  {
   "cell_type": "code",
   "execution_count": 16,
   "metadata": {},
   "outputs": [],
   "source": [
    "df_degree = pd.DataFrame(degree.items())\n",
    "df_betweeness = pd.DataFrame(betweeness.items())\n",
    "df_closeness = pd.DataFrame(closeness.items())\n",
    "df_degree.head()\n",
    "\n",
    "df_new = df_degree.merge(df_betweeness, left_on=0, right_on=0)\n",
    "df_result = df_new.merge(df_closeness, left_on = 0, right_on = 0)\n",
    "df_result['Centrality'] = df_result['1_y'] + df_result[1] + df_result['1_x']"
   ]
  },
  {
   "cell_type": "code",
   "execution_count": 19,
   "metadata": {},
   "outputs": [],
   "source": [
    "df_ml_flags = pd.read_csv('musae_git_target.csv')\n",
    "df_result = df_result.merge(df_ml_flags, right_on='name', left_on=0)"
   ]
  },
  {
   "cell_type": "code",
   "execution_count": 20,
   "metadata": {},
   "outputs": [
    {
     "data": {
      "text/html": [
       "<div>\n",
       "<style scoped>\n",
       "    .dataframe tbody tr th:only-of-type {\n",
       "        vertical-align: middle;\n",
       "    }\n",
       "\n",
       "    .dataframe tbody tr th {\n",
       "        vertical-align: top;\n",
       "    }\n",
       "\n",
       "    .dataframe thead th {\n",
       "        text-align: right;\n",
       "    }\n",
       "</style>\n",
       "<table border=\"1\" class=\"dataframe\">\n",
       "  <thead>\n",
       "    <tr style=\"text-align: right;\">\n",
       "      <th></th>\n",
       "      <th>0</th>\n",
       "      <th>1_x</th>\n",
       "      <th>1_y</th>\n",
       "      <th>1</th>\n",
       "      <th>Centrality</th>\n",
       "      <th>id</th>\n",
       "      <th>name</th>\n",
       "      <th>ml_target</th>\n",
       "    </tr>\n",
       "  </thead>\n",
       "  <tbody>\n",
       "    <tr>\n",
       "      <th>0</th>\n",
       "      <td>danalex97</td>\n",
       "      <td>0.000054</td>\n",
       "      <td>0.000000</td>\n",
       "      <td>0.189882</td>\n",
       "      <td>0.189936</td>\n",
       "      <td>6067</td>\n",
       "      <td>danalex97</td>\n",
       "      <td>1</td>\n",
       "    </tr>\n",
       "    <tr>\n",
       "      <th>1</th>\n",
       "      <td>benjaminaaron</td>\n",
       "      <td>0.000483</td>\n",
       "      <td>0.000494</td>\n",
       "      <td>0.236340</td>\n",
       "      <td>0.237316</td>\n",
       "      <td>19720</td>\n",
       "      <td>benjaminaaron</td>\n",
       "      <td>0</td>\n",
       "    </tr>\n",
       "    <tr>\n",
       "      <th>2</th>\n",
       "      <td>SuhwanCha</td>\n",
       "      <td>0.000161</td>\n",
       "      <td>0.000104</td>\n",
       "      <td>0.222340</td>\n",
       "      <td>0.222605</td>\n",
       "      <td>3</td>\n",
       "      <td>SuhwanCha</td>\n",
       "      <td>0</td>\n",
       "    </tr>\n",
       "    <tr>\n",
       "      <th>3</th>\n",
       "      <td>YuHyun7</td>\n",
       "      <td>0.000054</td>\n",
       "      <td>0.000000</td>\n",
       "      <td>0.180739</td>\n",
       "      <td>0.180793</td>\n",
       "      <td>4950</td>\n",
       "      <td>YuHyun7</td>\n",
       "      <td>1</td>\n",
       "    </tr>\n",
       "    <tr>\n",
       "      <th>4</th>\n",
       "      <td>graykode</td>\n",
       "      <td>0.000376</td>\n",
       "      <td>0.000221</td>\n",
       "      <td>0.264589</td>\n",
       "      <td>0.265186</td>\n",
       "      <td>18029</td>\n",
       "      <td>graykode</td>\n",
       "      <td>1</td>\n",
       "    </tr>\n",
       "  </tbody>\n",
       "</table>\n",
       "</div>"
      ],
      "text/plain": [
       "               0       1_x       1_y         1  Centrality     id  \\\n",
       "0      danalex97  0.000054  0.000000  0.189882    0.189936   6067   \n",
       "1  benjaminaaron  0.000483  0.000494  0.236340    0.237316  19720   \n",
       "2      SuhwanCha  0.000161  0.000104  0.222340    0.222605      3   \n",
       "3        YuHyun7  0.000054  0.000000  0.180739    0.180793   4950   \n",
       "4       graykode  0.000376  0.000221  0.264589    0.265186  18029   \n",
       "\n",
       "            name  ml_target  \n",
       "0      danalex97          1  \n",
       "1  benjaminaaron          0  \n",
       "2      SuhwanCha          0  \n",
       "3        YuHyun7          1  \n",
       "4       graykode          1  "
      ]
     },
     "execution_count": 20,
     "metadata": {},
     "output_type": "execute_result"
    }
   ],
   "source": [
    "df_result.head()"
   ]
  },
  {
   "cell_type": "code",
   "execution_count": 23,
   "metadata": {},
   "outputs": [],
   "source": [
    "df_result.to_csv('Centrality_github_data_cross_edge.csv')"
   ]
  }
 ],
 "metadata": {
  "kernelspec": {
   "display_name": "Python 3",
   "language": "python",
   "name": "python3"
  },
  "language_info": {
   "codemirror_mode": {
    "name": "ipython",
    "version": 3
   },
   "file_extension": ".py",
   "mimetype": "text/x-python",
   "name": "python",
   "nbconvert_exporter": "python",
   "pygments_lexer": "ipython3",
   "version": "3.7.3"
  }
 },
 "nbformat": 4,
 "nbformat_minor": 2
}
