{
 "cells": [
  {
   "cell_type": "markdown",
   "metadata": {},
   "source": [
    "## Sort centrality measures and determine most influential web developers and machine learning engineers"
   ]
  },
  {
   "cell_type": "code",
   "execution_count": 7,
   "metadata": {},
   "outputs": [],
   "source": [
    "import pandas as pd\n",
    "\n",
    "df = pd.read_csv('Github_degree_betweenness_closeness.csv')\n",
    "\n",
    "df['ml_target'].value_counts()\n",
    "df['Degree_betweenness_closeness'] = 1/3*(df['Degree'] + df['betweenness'] + df['closeness'])"
   ]
  },
  {
   "cell_type": "code",
   "execution_count": 8,
   "metadata": {},
   "outputs": [],
   "source": [
    "df_ml = df[df['ml_target']==1]\n",
    "df_wd = df[df['ml_target']==0]\n",
    "\n"
   ]
  },
  {
   "cell_type": "code",
   "execution_count": 9,
   "metadata": {},
   "outputs": [
    {
     "name": "stderr",
     "output_type": "stream",
     "text": [
      "C:\\Users\\Thomas\\Anaconda3\\lib\\site-packages\\ipykernel_launcher.py:1: SettingWithCopyWarning: \n",
      "A value is trying to be set on a copy of a slice from a DataFrame\n",
      "\n",
      "See the caveats in the documentation: http://pandas.pydata.org/pandas-docs/stable/indexing.html#indexing-view-versus-copy\n",
      "  \"\"\"Entry point for launching an IPython kernel.\n"
     ]
    },
    {
     "data": {
      "text/html": [
       "<div>\n",
       "<style scoped>\n",
       "    .dataframe tbody tr th:only-of-type {\n",
       "        vertical-align: middle;\n",
       "    }\n",
       "\n",
       "    .dataframe tbody tr th {\n",
       "        vertical-align: top;\n",
       "    }\n",
       "\n",
       "    .dataframe thead th {\n",
       "        text-align: right;\n",
       "    }\n",
       "</style>\n",
       "<table border=\"1\" class=\"dataframe\">\n",
       "  <thead>\n",
       "    <tr style=\"text-align: right;\">\n",
       "      <th></th>\n",
       "      <th>Account_name</th>\n",
       "      <th>Degree</th>\n",
       "      <th>betweenness</th>\n",
       "      <th>closeness</th>\n",
       "      <th>id</th>\n",
       "      <th>name</th>\n",
       "      <th>ml_target</th>\n",
       "      <th>Degree_betweenness_closeness</th>\n",
       "    </tr>\n",
       "  </thead>\n",
       "  <tbody>\n",
       "    <tr>\n",
       "      <th>65</th>\n",
       "      <td>23589</td>\n",
       "      <td>0.025651</td>\n",
       "      <td>0.007242</td>\n",
       "      <td>0.401758</td>\n",
       "      <td>23589</td>\n",
       "      <td>antirez</td>\n",
       "      <td>1</td>\n",
       "      <td>0.144884</td>\n",
       "    </tr>\n",
       "    <tr>\n",
       "      <th>184</th>\n",
       "      <td>22321</td>\n",
       "      <td>0.016393</td>\n",
       "      <td>0.003188</td>\n",
       "      <td>0.402492</td>\n",
       "      <td>22321</td>\n",
       "      <td>bradfitz</td>\n",
       "      <td>1</td>\n",
       "      <td>0.140691</td>\n",
       "    </tr>\n",
       "    <tr>\n",
       "      <th>3457</th>\n",
       "      <td>26649</td>\n",
       "      <td>0.007295</td>\n",
       "      <td>0.002157</td>\n",
       "      <td>0.404908</td>\n",
       "      <td>26649</td>\n",
       "      <td>WillemJan</td>\n",
       "      <td>1</td>\n",
       "      <td>0.138120</td>\n",
       "    </tr>\n",
       "    <tr>\n",
       "      <th>1366</th>\n",
       "      <td>14954</td>\n",
       "      <td>0.019337</td>\n",
       "      <td>0.008232</td>\n",
       "      <td>0.378599</td>\n",
       "      <td>14954</td>\n",
       "      <td>rasbt</td>\n",
       "      <td>1</td>\n",
       "      <td>0.135389</td>\n",
       "    </tr>\n",
       "    <tr>\n",
       "      <th>877</th>\n",
       "      <td>1089</td>\n",
       "      <td>0.005119</td>\n",
       "      <td>0.000771</td>\n",
       "      <td>0.400087</td>\n",
       "      <td>1089</td>\n",
       "      <td>iam-peekay</td>\n",
       "      <td>1</td>\n",
       "      <td>0.135326</td>\n",
       "    </tr>\n",
       "  </tbody>\n",
       "</table>\n",
       "</div>"
      ],
      "text/plain": [
       "      Account_name    Degree  betweenness  closeness     id        name  \\\n",
       "65           23589  0.025651     0.007242   0.401758  23589     antirez   \n",
       "184          22321  0.016393     0.003188   0.402492  22321    bradfitz   \n",
       "3457         26649  0.007295     0.002157   0.404908  26649   WillemJan   \n",
       "1366         14954  0.019337     0.008232   0.378599  14954       rasbt   \n",
       "877           1089  0.005119     0.000771   0.400087   1089  iam-peekay   \n",
       "\n",
       "      ml_target  Degree_betweenness_closeness  \n",
       "65            1                      0.144884  \n",
       "184           1                      0.140691  \n",
       "3457          1                      0.138120  \n",
       "1366          1                      0.135389  \n",
       "877           1                      0.135326  "
      ]
     },
     "execution_count": 9,
     "metadata": {},
     "output_type": "execute_result"
    }
   ],
   "source": [
    "df_ml.sort_values(by = 'Degree_betweenness_closeness', ascending = False, inplace=True)\n",
    "df_ml.head()"
   ]
  },
  {
   "cell_type": "code",
   "execution_count": 10,
   "metadata": {},
   "outputs": [
    {
     "name": "stderr",
     "output_type": "stream",
     "text": [
      "C:\\Users\\Thomas\\Anaconda3\\lib\\site-packages\\ipykernel_launcher.py:1: SettingWithCopyWarning: \n",
      "A value is trying to be set on a copy of a slice from a DataFrame\n",
      "\n",
      "See the caveats in the documentation: http://pandas.pydata.org/pandas-docs/stable/indexing.html#indexing-view-versus-copy\n",
      "  \"\"\"Entry point for launching an IPython kernel.\n"
     ]
    },
    {
     "data": {
      "text/html": [
       "<div>\n",
       "<style scoped>\n",
       "    .dataframe tbody tr th:only-of-type {\n",
       "        vertical-align: middle;\n",
       "    }\n",
       "\n",
       "    .dataframe tbody tr th {\n",
       "        vertical-align: top;\n",
       "    }\n",
       "\n",
       "    .dataframe thead th {\n",
       "        text-align: right;\n",
       "    }\n",
       "</style>\n",
       "<table border=\"1\" class=\"dataframe\">\n",
       "  <thead>\n",
       "    <tr style=\"text-align: right;\">\n",
       "      <th></th>\n",
       "      <th>Account_name</th>\n",
       "      <th>Degree</th>\n",
       "      <th>betweenness</th>\n",
       "      <th>closeness</th>\n",
       "      <th>id</th>\n",
       "      <th>name</th>\n",
       "      <th>ml_target</th>\n",
       "      <th>Degree_betweenness_closeness</th>\n",
       "    </tr>\n",
       "  </thead>\n",
       "  <tbody>\n",
       "    <tr>\n",
       "      <th>28</th>\n",
       "      <td>31890</td>\n",
       "      <td>0.250882</td>\n",
       "      <td>0.269599</td>\n",
       "      <td>0.517787</td>\n",
       "      <td>31890</td>\n",
       "      <td>dalinhuang99</td>\n",
       "      <td>0</td>\n",
       "      <td>0.346089</td>\n",
       "    </tr>\n",
       "    <tr>\n",
       "      <th>24</th>\n",
       "      <td>27803</td>\n",
       "      <td>0.187936</td>\n",
       "      <td>0.240541</td>\n",
       "      <td>0.523081</td>\n",
       "      <td>27803</td>\n",
       "      <td>nfultz</td>\n",
       "      <td>0</td>\n",
       "      <td>0.317186</td>\n",
       "    </tr>\n",
       "    <tr>\n",
       "      <th>82</th>\n",
       "      <td>19222</td>\n",
       "      <td>0.078464</td>\n",
       "      <td>0.055323</td>\n",
       "      <td>0.466324</td>\n",
       "      <td>19222</td>\n",
       "      <td>Bunlong</td>\n",
       "      <td>0</td>\n",
       "      <td>0.200037</td>\n",
       "    </tr>\n",
       "    <tr>\n",
       "      <th>35</th>\n",
       "      <td>35773</td>\n",
       "      <td>0.088172</td>\n",
       "      <td>0.043408</td>\n",
       "      <td>0.450342</td>\n",
       "      <td>35773</td>\n",
       "      <td>addyosmani</td>\n",
       "      <td>0</td>\n",
       "      <td>0.193974</td>\n",
       "    </tr>\n",
       "    <tr>\n",
       "      <th>109</th>\n",
       "      <td>13638</td>\n",
       "      <td>0.065466</td>\n",
       "      <td>0.035337</td>\n",
       "      <td>0.447461</td>\n",
       "      <td>13638</td>\n",
       "      <td>gabrielpconceicao</td>\n",
       "      <td>0</td>\n",
       "      <td>0.182755</td>\n",
       "    </tr>\n",
       "  </tbody>\n",
       "</table>\n",
       "</div>"
      ],
      "text/plain": [
       "     Account_name    Degree  betweenness  closeness     id               name  \\\n",
       "28          31890  0.250882     0.269599   0.517787  31890       dalinhuang99   \n",
       "24          27803  0.187936     0.240541   0.523081  27803             nfultz   \n",
       "82          19222  0.078464     0.055323   0.466324  19222            Bunlong   \n",
       "35          35773  0.088172     0.043408   0.450342  35773         addyosmani   \n",
       "109         13638  0.065466     0.035337   0.447461  13638  gabrielpconceicao   \n",
       "\n",
       "     ml_target  Degree_betweenness_closeness  \n",
       "28           0                      0.346089  \n",
       "24           0                      0.317186  \n",
       "82           0                      0.200037  \n",
       "35           0                      0.193974  \n",
       "109          0                      0.182755  "
      ]
     },
     "execution_count": 10,
     "metadata": {},
     "output_type": "execute_result"
    }
   ],
   "source": [
    "df_wd.sort_values(by = 'Degree_betweenness_closeness', ascending = False, inplace = True)\n",
    "df_wd.head()"
   ]
  },
  {
   "cell_type": "markdown",
   "metadata": {},
   "source": [
    "## Determine homophily among the network"
   ]
  },
  {
   "cell_type": "code",
   "execution_count": 12,
   "metadata": {},
   "outputs": [
    {
     "data": {
      "text/html": [
       "<div>\n",
       "<style scoped>\n",
       "    .dataframe tbody tr th:only-of-type {\n",
       "        vertical-align: middle;\n",
       "    }\n",
       "\n",
       "    .dataframe tbody tr th {\n",
       "        vertical-align: top;\n",
       "    }\n",
       "\n",
       "    .dataframe thead th {\n",
       "        text-align: right;\n",
       "    }\n",
       "</style>\n",
       "<table border=\"1\" class=\"dataframe\">\n",
       "  <thead>\n",
       "    <tr style=\"text-align: right;\">\n",
       "      <th></th>\n",
       "      <th>Unnamed: 0</th>\n",
       "      <th>id_1</th>\n",
       "      <th>id_2</th>\n",
       "      <th>name</th>\n",
       "      <th>ml_target</th>\n",
       "      <th>name_2</th>\n",
       "      <th>ml_target_2</th>\n",
       "    </tr>\n",
       "  </thead>\n",
       "  <tbody>\n",
       "    <tr>\n",
       "      <th>0</th>\n",
       "      <td>0</td>\n",
       "      <td>0</td>\n",
       "      <td>23977</td>\n",
       "      <td>Eiryyy</td>\n",
       "      <td>0</td>\n",
       "      <td>airtoxin</td>\n",
       "      <td>0</td>\n",
       "    </tr>\n",
       "    <tr>\n",
       "      <th>1</th>\n",
       "      <td>1</td>\n",
       "      <td>1</td>\n",
       "      <td>34526</td>\n",
       "      <td>shawflying</td>\n",
       "      <td>0</td>\n",
       "      <td>ghosind</td>\n",
       "      <td>0</td>\n",
       "    </tr>\n",
       "    <tr>\n",
       "      <th>2</th>\n",
       "      <td>2</td>\n",
       "      <td>1</td>\n",
       "      <td>2370</td>\n",
       "      <td>shawflying</td>\n",
       "      <td>0</td>\n",
       "      <td>jasondu</td>\n",
       "      <td>0</td>\n",
       "    </tr>\n",
       "    <tr>\n",
       "      <th>3</th>\n",
       "      <td>3</td>\n",
       "      <td>1</td>\n",
       "      <td>14683</td>\n",
       "      <td>shawflying</td>\n",
       "      <td>0</td>\n",
       "      <td>chaoslawful</td>\n",
       "      <td>0</td>\n",
       "    </tr>\n",
       "    <tr>\n",
       "      <th>4</th>\n",
       "      <td>4</td>\n",
       "      <td>1</td>\n",
       "      <td>29982</td>\n",
       "      <td>shawflying</td>\n",
       "      <td>0</td>\n",
       "      <td>dead-horse</td>\n",
       "      <td>0</td>\n",
       "    </tr>\n",
       "  </tbody>\n",
       "</table>\n",
       "</div>"
      ],
      "text/plain": [
       "   Unnamed: 0  id_1   id_2        name  ml_target       name_2  ml_target_2\n",
       "0           0     0  23977      Eiryyy          0     airtoxin            0\n",
       "1           1     1  34526  shawflying          0      ghosind            0\n",
       "2           2     1   2370  shawflying          0      jasondu            0\n",
       "3           3     1  14683  shawflying          0  chaoslawful            0\n",
       "4           4     1  29982  shawflying          0   dead-horse            0"
      ]
     },
     "execution_count": 12,
     "metadata": {},
     "output_type": "execute_result"
    }
   ],
   "source": [
    "df_homophily = pd.read_csv('combined_github_data.csv')\n",
    "df_homophily.head()\n"
   ]
  },
  {
   "cell_type": "code",
   "execution_count": 19,
   "metadata": {},
   "outputs": [
    {
     "data": {
      "text/plain": [
       "37700"
      ]
     },
     "execution_count": 19,
     "metadata": {},
     "output_type": "execute_result"
    }
   ],
   "source": [
    "set1 = set(df_homophily['name'])\n",
    "set2 = set(df_homophily['name_2'])\n",
    "nodes = set1.union(set2)\n",
    "len(nodes)"
   ]
  },
  {
   "cell_type": "code",
   "execution_count": 20,
   "metadata": {},
   "outputs": [
    {
     "data": {
      "text/plain": [
       "37700"
      ]
     },
     "execution_count": 20,
     "metadata": {},
     "output_type": "execute_result"
    }
   ],
   "source": [
    "df_accounts = pd.read_csv('musae_git_target.csv')\n",
    "len(df_accounts)"
   ]
  },
  {
   "cell_type": "code",
   "execution_count": 29,
   "metadata": {},
   "outputs": [
    {
     "name": "stdout",
     "output_type": "stream",
     "text": [
      "The expected probability of a cross-edge is:\n",
      "0.38319017090108276\n",
      "The actual probability of a cross-edge is:\n",
      "0.1546558340224842\n"
     ]
    }
   ],
   "source": [
    "prob_ml = sum(df_accounts['ml_target'])/len(df_accounts)\n",
    "prob_wd = 1-prob_ml\n",
    "prob_cross_edge = 2*prob_ml*prob_wd\n",
    "\n",
    "print('The expected probability of a cross-edge is:')\n",
    "print(prob_cross_edge)\n",
    "\n",
    "mask = df_homophily['ml_target'] != df_homophily['ml_target_2']\n",
    "df_cross_edges = df_homophily[mask]\n",
    "actual_prob = len(df_cross_edges) / len(df_homophily)\n",
    "print('The actual probability of a cross-edge is:')\n",
    "print(actual_prob)"
   ]
  },
  {
   "cell_type": "markdown",
   "metadata": {},
   "source": [
    "## Since the actual probability of a cross-edge (0.15) is less than the expected probability of a cross edge (0.38), there is homophily in the network (i.e., MLEs tend to work together more than with web developers and vice versa)"
   ]
  }
 ],
 "metadata": {
  "kernelspec": {
   "display_name": "Python 3",
   "language": "python",
   "name": "python3"
  },
  "language_info": {
   "codemirror_mode": {
    "name": "ipython",
    "version": 3
   },
   "file_extension": ".py",
   "mimetype": "text/x-python",
   "name": "python",
   "nbconvert_exporter": "python",
   "pygments_lexer": "ipython3",
   "version": "3.7.3"
  }
 },
 "nbformat": 4,
 "nbformat_minor": 2
}
